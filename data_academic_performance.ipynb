{
 "cells": [
  {
   "cell_type": "code",
   "id": "initial_id",
   "metadata": {
    "collapsed": true,
    "ExecuteTime": {
     "end_time": "2024-11-25T19:06:01.670101Z",
     "start_time": "2024-11-25T19:06:00.630899Z"
    }
   },
   "source": [
    "import polars\n",
    "import plotnine"
   ],
   "outputs": [],
   "execution_count": 2
  },
  {
   "metadata": {
    "ExecuteTime": {
     "end_time": "2024-11-25T19:13:36.845011Z",
     "start_time": "2024-11-25T19:13:36.819035Z"
    }
   },
   "cell_type": "code",
   "source": "data = polars.read_csv(\"data_academic_performance.xlsx - SABER11_SABERPRO.csv\")",
   "id": "f98c656f0096e22f",
   "outputs": [],
   "execution_count": 5
  },
  {
   "metadata": {
    "ExecuteTime": {
     "end_time": "2024-11-25T19:20:16.665542Z",
     "start_time": "2024-11-25T19:20:16.656008Z"
    }
   },
   "cell_type": "code",
   "source": "data.select(polars.col(polars.Int64)).corr()",
   "id": "e7cdfa03e73d8ee5",
   "outputs": [
    {
     "data": {
      "text/plain": [
       "shape: (17, 17)\n",
       "┌──────────┬──────────┬──────────┬──────────┬───┬────────────┬──────────┬──────────┬──────────┐\n",
       "│ MAT_S11  ┆ CR_S11   ┆ CC_S11   ┆ BIO_S11  ┆ … ┆ 2ND_DECILE ┆ QUARTILE ┆ SEL      ┆ SEL_IHE  │\n",
       "│ ---      ┆ ---      ┆ ---      ┆ ---      ┆   ┆ ---        ┆ ---      ┆ ---      ┆ ---      │\n",
       "│ f64      ┆ f64      ┆ f64      ┆ f64      ┆   ┆ f64        ┆ f64      ┆ f64      ┆ f64      │\n",
       "╞══════════╪══════════╪══════════╪══════════╪═══╪════════════╪══════════╪══════════╪══════════╡\n",
       "│ 1.0      ┆ 0.609894 ┆ 0.594732 ┆ 0.763082 ┆ … ┆ 0.575242   ┆ 0.561125 ┆ 0.230067 ┆ 0.30112  │\n",
       "│ 0.609894 ┆ 1.0      ┆ 0.731217 ┆ 0.661651 ┆ … ┆ 0.59964    ┆ 0.584281 ┆ 0.187746 ┆ 0.267731 │\n",
       "│ 0.594732 ┆ 0.731217 ┆ 1.0      ┆ 0.657576 ┆ … ┆ 0.577738   ┆ 0.567217 ┆ 0.171626 ┆ 0.256775 │\n",
       "│ 0.763082 ┆ 0.661651 ┆ 0.657576 ┆ 1.0      ┆ … ┆ 0.606477   ┆ 0.593301 ┆ 0.199416 ┆ 0.275563 │\n",
       "│ 0.594903 ┆ 0.581045 ┆ 0.548531 ┆ 0.593273 ┆ … ┆ 0.570983   ┆ 0.554559 ┆ 0.394137 ┆ 0.456649 │\n",
       "│ …        ┆ …        ┆ …        ┆ …        ┆ … ┆ …          ┆ …        ┆ …        ┆ …        │\n",
       "│ 0.613202 ┆ 0.633823 ┆ 0.613032 ┆ 0.642521 ┆ … ┆ 0.97418    ┆ 0.959568 ┆ 0.251748 ┆ 0.345423 │\n",
       "│ 0.575242 ┆ 0.59964  ┆ 0.577738 ┆ 0.606477 ┆ … ┆ 1.0        ┆ 0.943268 ┆ 0.234227 ┆ 0.319988 │\n",
       "│ 0.561125 ┆ 0.584281 ┆ 0.567217 ┆ 0.593301 ┆ … ┆ 0.943268   ┆ 1.0      ┆ 0.22656  ┆ 0.311398 │\n",
       "│ 0.230067 ┆ 0.187746 ┆ 0.171626 ┆ 0.199416 ┆ … ┆ 0.234227   ┆ 0.22656  ┆ 1.0      ┆ 0.421556 │\n",
       "│ 0.30112  ┆ 0.267731 ┆ 0.256775 ┆ 0.275563 ┆ … ┆ 0.319988   ┆ 0.311398 ┆ 0.421556 ┆ 1.0      │\n",
       "└──────────┴──────────┴──────────┴──────────┴───┴────────────┴──────────┴──────────┴──────────┘"
      ],
      "text/html": [
       "<div><style>\n",
       ".dataframe > thead > tr,\n",
       ".dataframe > tbody > tr {\n",
       "  text-align: right;\n",
       "  white-space: pre-wrap;\n",
       "}\n",
       "</style>\n",
       "<small>shape: (17, 17)</small><table border=\"1\" class=\"dataframe\"><thead><tr><th>MAT_S11</th><th>CR_S11</th><th>CC_S11</th><th>BIO_S11</th><th>ENG_S11</th><th>QR_PRO</th><th>CR_PRO</th><th>CC_PRO</th><th>ENG_PRO</th><th>WC_PRO</th><th>FEP_PRO</th><th>G_SC</th><th>PERCENTILE</th><th>2ND_DECILE</th><th>QUARTILE</th><th>SEL</th><th>SEL_IHE</th></tr><tr><td>f64</td><td>f64</td><td>f64</td><td>f64</td><td>f64</td><td>f64</td><td>f64</td><td>f64</td><td>f64</td><td>f64</td><td>f64</td><td>f64</td><td>f64</td><td>f64</td><td>f64</td><td>f64</td><td>f64</td></tr></thead><tbody><tr><td>1.0</td><td>0.609894</td><td>0.594732</td><td>0.763082</td><td>0.594903</td><td>0.615621</td><td>0.523993</td><td>0.458287</td><td>0.545888</td><td>0.207195</td><td>0.261243</td><td>0.643838</td><td>0.613202</td><td>0.575242</td><td>0.561125</td><td>0.230067</td><td>0.30112</td></tr><tr><td>0.609894</td><td>1.0</td><td>0.731217</td><td>0.661651</td><td>0.581045</td><td>0.520551</td><td>0.589139</td><td>0.515558</td><td>0.549311</td><td>0.228595</td><td>0.286429</td><td>0.653572</td><td>0.633823</td><td>0.59964</td><td>0.584281</td><td>0.187746</td><td>0.267731</td></tr><tr><td>0.594732</td><td>0.731217</td><td>1.0</td><td>0.657576</td><td>0.548531</td><td>0.503067</td><td>0.567081</td><td>0.524206</td><td>0.51128</td><td>0.220435</td><td>0.287582</td><td>0.6349</td><td>0.613032</td><td>0.577738</td><td>0.567217</td><td>0.171626</td><td>0.256775</td></tr><tr><td>0.763082</td><td>0.661651</td><td>0.657576</td><td>1.0</td><td>0.593273</td><td>0.601655</td><td>0.564998</td><td>0.500017</td><td>0.558352</td><td>0.217898</td><td>0.291091</td><td>0.666635</td><td>0.642521</td><td>0.606477</td><td>0.593301</td><td>0.199416</td><td>0.275563</td></tr><tr><td>0.594903</td><td>0.581045</td><td>0.548531</td><td>0.593273</td><td>1.0</td><td>0.44513</td><td>0.501599</td><td>0.433447</td><td>0.738294</td><td>0.256144</td><td>0.250734</td><td>0.662169</td><td>0.615464</td><td>0.570983</td><td>0.554559</td><td>0.394137</td><td>0.456649</td></tr><tr><td>&hellip;</td><td>&hellip;</td><td>&hellip;</td><td>&hellip;</td><td>&hellip;</td><td>&hellip;</td><td>&hellip;</td><td>&hellip;</td><td>&hellip;</td><td>&hellip;</td><td>&hellip;</td><td>&hellip;</td><td>&hellip;</td><td>&hellip;</td><td>&hellip;</td><td>&hellip;</td><td>&hellip;</td></tr><tr><td>0.613202</td><td>0.633823</td><td>0.613032</td><td>0.642521</td><td>0.615464</td><td>0.723865</td><td>0.791534</td><td>0.755583</td><td>0.728411</td><td>0.53183</td><td>0.349217</td><td>0.9635</td><td>1.0</td><td>0.97418</td><td>0.959568</td><td>0.251748</td><td>0.345423</td></tr><tr><td>0.575242</td><td>0.59964</td><td>0.577738</td><td>0.606477</td><td>0.570983</td><td>0.703822</td><td>0.761176</td><td>0.723866</td><td>0.701317</td><td>0.499134</td><td>0.326858</td><td>0.911593</td><td>0.97418</td><td>1.0</td><td>0.943268</td><td>0.234227</td><td>0.319988</td></tr><tr><td>0.561125</td><td>0.584281</td><td>0.567217</td><td>0.593301</td><td>0.554559</td><td>0.693417</td><td>0.745124</td><td>0.709715</td><td>0.689325</td><td>0.482903</td><td>0.314514</td><td>0.889367</td><td>0.959568</td><td>0.943268</td><td>1.0</td><td>0.22656</td><td>0.311398</td></tr><tr><td>0.230067</td><td>0.187746</td><td>0.171626</td><td>0.199416</td><td>0.394137</td><td>0.159939</td><td>0.164093</td><td>0.172549</td><td>0.35777</td><td>0.117969</td><td>0.077812</td><td>0.271465</td><td>0.251748</td><td>0.234227</td><td>0.22656</td><td>1.0</td><td>0.421556</td></tr><tr><td>0.30112</td><td>0.267731</td><td>0.256775</td><td>0.275563</td><td>0.456649</td><td>0.243903</td><td>0.228774</td><td>0.219626</td><td>0.422678</td><td>0.220165</td><td>-0.005312</td><td>0.3744</td><td>0.345423</td><td>0.319988</td><td>0.311398</td><td>0.421556</td><td>1.0</td></tr></tbody></table></div>"
      ]
     },
     "execution_count": 13,
     "metadata": {},
     "output_type": "execute_result"
    }
   ],
   "execution_count": 13
  }
 ],
 "metadata": {
  "kernelspec": {
   "display_name": "Python 3",
   "language": "python",
   "name": "python3"
  },
  "language_info": {
   "codemirror_mode": {
    "name": "ipython",
    "version": 2
   },
   "file_extension": ".py",
   "mimetype": "text/x-python",
   "name": "python",
   "nbconvert_exporter": "python",
   "pygments_lexer": "ipython2",
   "version": "2.7.6"
  }
 },
 "nbformat": 4,
 "nbformat_minor": 5
}
